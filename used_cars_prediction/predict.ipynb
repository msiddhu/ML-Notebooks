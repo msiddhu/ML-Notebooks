{
 "cells": [
  {
   "cell_type": "code",
   "execution_count": null,
   "metadata": {
    "pycharm": {
     "name": "#%%\n"
    }
   },
   "outputs": [],
   "source": [
    "\n",
    "import os\n",
    "import numpy as np\n",
    "import pandas as pd\n",
    "x = pd.read_excel ('data_train.xlsx')\n",
    "test=pd.read_excel('data_test.xlsx')\n",
    "print(test.columns)"
   ]
  },
  {
   "source": [],
   "cell_type": "code",
   "metadata": {},
   "execution_count": null,
   "outputs": []
  },
  {
   "cell_type": "code",
   "execution_count": null,
   "metadata": {
    "pycharm": {
     "name": "#%%\n"
    }
   },
   "outputs": [],
   "source": [
    "y=x.pop('Price')\n",
    "x.describe()"
   ]
  },
  {
   "cell_type": "code",
   "execution_count": null,
   "metadata": {
    "pycharm": {
     "name": "#%%\n"
    }
   },
   "outputs": [],
   "source": [
    "x['Name'] = x.Name.str.split().str.get(0)\n",
    "test['Name'] = test.Name.str.split().str.get(0)"
   ]
  },
  {
   "cell_type": "code",
   "execution_count": null,
   "metadata": {
    "pycharm": {
     "name": "#%%\n"
    }
   },
   "outputs": [],
   "source": [
    "x.isna().sum()\n"
   ]
  },
  {
   "cell_type": "code",
   "execution_count": null,
   "metadata": {},
   "outputs": [],
   "source": [
    "x['Seats'].fillna(x['Seats'].mean(),inplace=True)\n",
    "test['Seats'].fillna(test['Seats'].mean(),inplace=True)\n",
    "data = pd.concat([x,test], sort=False)\n",
    "x['Mileage'] = x['Mileage'].fillna('17.0 kmpl')\n",
    "test['Mileage'] = test['Mileage'].fillna('17.0 kmpl')\n",
    "x['Mileage'] = x['Mileage'].replace(\"0.0 kmpl\", \"17.0 kmpl\")\n",
    "test['Mileage'] = test['Mileage'].replace(\"0.0 kmpl\", \"17.0 kmpl\")\n",
    "x['Engine'] = x['Engine'].fillna('1197 CC')\n",
    "test['Engine'] = test['Engine'].fillna('1197 CC')\n",
    "x['Power'] = x['Power'].fillna('74 bhp')\n",
    "test['Power'] = test['Power'].fillna('74 bhp')\n",
    "x['Power'] = x['Power'].replace(\"null bhp\", \"74 bhp\")\n",
    "test['Power'] = test['Power'].replace(\"null bhp\", \"74 bhp\")"
   ]
  },
  {
   "cell_type": "code",
   "execution_count": null,
   "metadata": {},
   "outputs": [],
   "source": [
    "\n",
    "print(x.columns)\n",
    "print(x.isna().sum())"
   ]
  },
  {
   "cell_type": "code",
   "execution_count": null,
   "metadata": {},
   "outputs": [],
   "source": [
    "print(x.Name.unique())\n",
    "print(x.Fuel_Type.unique())\n",
    "print(x.Transmission.unique())\n",
    "print(x.Owner_Type.unique())\n",
    "print(x.Location.unique())\n"
   ]
  },
  {
   "cell_type": "code",
   "execution_count": null,
   "metadata": {},
   "outputs": [],
   "source": [
    "print(x.columns)"
   ]
  },
  {
   "cell_type": "code",
   "execution_count": null,
   "metadata": {},
   "outputs": [],
   "source": [
    "x.info()"
   ]
  },
  {
   "cell_type": "code",
   "execution_count": null,
   "metadata": {},
   "outputs": [],
   "source": [
    "import re\n",
    "\n",
    "def get_number(name):\n",
    "    title_search = re.search('([\\d+\\.+\\d]+\\W)', name)\n",
    "    5\n",
    "    if title_search:\n",
    "        return title_search.group(1)\n",
    "    return \"\"\n",
    "\n",
    "x['Mileage'] = x['Mileage'].apply(get_number).astype('float')\n",
    "x['Engine'] = x['Engine'].apply(get_number).astype('int')\n",
    "x['Power'] = x['Power'].apply(get_number).astype('float')\n",
    "\n",
    "test['Mileage'] = test['Mileage'].apply(get_number).astype('float')\n",
    "test['Engine'] = test['Engine'].apply(get_number).astype('int')\n",
    "test['Power'] = test['Power'].apply(get_number).astype('float')"
   ]
  },
  {
   "cell_type": "code",
   "execution_count": null,
   "metadata": {},
   "outputs": [],
   "source": [
    "x.info()"
   ]
  },
  {
   "cell_type": "code",
   "execution_count": null,
   "metadata": {},
   "outputs": [],
   "source": [
    "from sklearn.preprocessing import LabelEncoder\n",
    "\n",
    "label_encoder = LabelEncoder()\n",
    "x['Name'] = label_encoder.fit_transform(x['Name'])\n",
    "x['Location'] = label_encoder.fit_transform(x['Location'])\n",
    "x['Fuel_Type'] = label_encoder.fit_transform(x['Fuel_Type'])\n",
    "x['Transmission'] = label_encoder.fit_transform(x['Transmission'])\n",
    "x['Owner_Type'] = label_encoder.fit_transform(x['Owner_Type'])\n"
   ]
  },
  {
   "cell_type": "code",
   "execution_count": null,
   "metadata": {},
   "outputs": [],
   "source": [
    "x.info()"
   ]
  },
  {
   "cell_type": "code",
   "execution_count": null,
   "metadata": {},
   "outputs": [],
   "source": [
    "\n",
    "from sklearn.model_selection import train_test_split\n",
    "X_train, X_valid, y_train, y_valid = train_test_split(x,y,train_size=0.8,test_size=0.2,random_state=0)"
   ]
  },
  {
   "cell_type": "code",
   "execution_count": null,
   "metadata": {},
   "outputs": [],
   "source": [
    "X_train.info()"
   ]
  },
  {
   "cell_type": "code",
   "execution_count": null,
   "metadata": {},
   "outputs": [],
   "source": [
    "X_train.head()"
   ]
  },
  {
   "cell_type": "code",
   "execution_count": null,
   "metadata": {},
   "outputs": [],
   "source": [
    "import keras\n",
    "from keras import layers\n",
    "import tensorflow as tf\n",
    "def build_model():\n",
    "  model = keras.Sequential([\n",
    "    layers.Dense(64, activation='relu', input_shape=[len(X_train.keys())]),\n",
    "    layers.Dense(64, activation='relu'),\n",
    "    layers.Dense(1)\n",
    "  ])\n",
    "\n",
    "  optimizer = tf.keras.optimizers.RMSprop(0.001)\n",
    "\n",
    "  model.compile(loss='mse',\n",
    "                optimizer=optimizer,\n",
    "                metrics=['mae', 'mse'])\n",
    "  return model"
   ]
  },
  {
   "cell_type": "code",
   "execution_count": null,
   "metadata": {},
   "outputs": [],
   "source": [
    "model = build_model()\n",
    "model.summary()"
   ]
  },
  {
   "cell_type": "code",
   "execution_count": null,
   "metadata": {},
   "outputs": [],
   "source": [
    "EPOCHS = 1000\n",
    "history = model.fit(\n",
    "  X_train, y_train,\n",
    "  epochs=EPOCHS, validation_split = 0.2, verbose=1)"
   ]
  },
  {
   "cell_type": "code",
   "execution_count": null,
   "metadata": {},
   "outputs": [],
   "source": [
    "hist = pd.DataFrame(history.history)\n",
    "hist['epoch'] = history.epoch\n",
    "hist.tail()"
   ]
  },
  {
   "cell_type": "code",
   "execution_count": null,
   "metadata": {},
   "outputs": [],
   "source": [
    "#!pip install git+https://github.com/tensorflow/docs\n",
    "import tensorflow_docs as tfdocs\n",
    "import tensorflow_docs.plots\n",
    "import tensorflow_docs.modeling\n",
    "plotter = tfdocs.plots.HistoryPlotter(smoothing_std=2)"
   ]
  },
  {
   "cell_type": "code",
   "execution_count": null,
   "metadata": {},
   "outputs": [],
   "source": [
    "import matplotlib.pyplot as plt\n",
    "plotter = tfdocs.plots.HistoryPlotter(smoothing_std=2)\n",
    "plotter.plot({'Basic': history}, metric = \"mae\")\n",
    "plt.ylim([0, 10])\n",
    "plt.ylabel('MAE [Prices]')"
   ]
  },
  {
   "cell_type": "code",
   "execution_count": null,
   "metadata": {},
   "outputs": [],
   "source": [
    "\n",
    "test['Name'] = label_encoder.fit_transform(test['Name'])\n",
    "test['Location'] = label_encoder.fit_transform(test['Location'])\n",
    "test['Fuel_Type'] = label_encoder.fit_transform(test['Fuel_Type'])\n",
    "test['Transmission'] = label_encoder.fit_transform(test['Transmission'])\n",
    "test['Owner_Type'] = label_encoder.fit_transform(test['Owner_Type'])\n",
    "test_predictions = model.predict(test).flatten()"
   ]
  },
  {
   "cell_type": "code",
   "execution_count": null,
   "metadata": {},
   "outputs": [],
   "source": [
    "testsave=pd.read_excel('data_test.xlsx')\n",
    "testsave['Prices']=test_predictions"
   ]
  },
  {
   "cell_type": "code",
   "execution_count": null,
   "metadata": {},
   "outputs": [],
   "source": [
    "writer = pd.ExcelWriter('testpredictions.xlsx', engine='xlsxwriter')\n",
    "testsave.to_excel(writer)\n",
    "writer.save()"
   ]
  },
  {
   "cell_type": "code",
   "execution_count": null,
   "metadata": {},
   "outputs": [],
   "source": []
  }
 ],
 "metadata": {
  "kernelspec": {
   "display_name": "Python 3",
   "language": "python",
   "name": "python3"
  },
  "language_info": {
   "codemirror_mode": {
    "name": "ipython",
    "version": 3
   },
   "file_extension": ".py",
   "mimetype": "text/x-python",
   "name": "python",
   "nbconvert_exporter": "python",
   "pygments_lexer": "ipython3",
   "version": "3.7.3"
  }
 },
 "nbformat": 4,
 "nbformat_minor": 1
}